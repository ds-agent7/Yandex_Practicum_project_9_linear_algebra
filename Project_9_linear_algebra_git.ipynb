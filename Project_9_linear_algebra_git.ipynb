{
 "cells": [
  {
   "cell_type": "markdown",
   "metadata": {},
   "source": [
    "## Project.9 Линейная алгебра. Защита персональных данных клиентов\n",
    "\n",
    "    (yandex_practicum by student@pavel_matushevskiy, Volgograd 2022)"
   ]
  },
  {
   "cell_type": "markdown",
   "metadata": {},
   "source": [
    "### Описание проекта\n",
    "Вам нужно защитить данные клиентов страховой компании «Хоть потоп».   \n",
    "Разработайте такой метод преобразования данных, чтобы по ним было сложно восстановить персональную информацию.   \n",
    "Обоснуйте корректность его работы.  \n",
    "\n",
    "Нужно защитить данные, чтобы при преобразовании качество моделей машинного обучения не ухудшилось. Подбирать наилучшую модель не требуется."
   ]
  },
  {
   "cell_type": "markdown",
   "metadata": {},
   "source": [
    "### Описание данных\n",
    "Набор данных находится в файле /datasets/insurance.csv.   \n",
    "\n",
    "Признаки: пол, возраст и зарплата застрахованного, количество членов его семьи.  \n",
    "\n",
    "Целевой признак: количество страховых выплат клиенту за последние 5 лет."
   ]
  },
  {
   "cell_type": "markdown",
   "metadata": {},
   "source": [
    "### 1. Подготовка библиотек и данных"
   ]
  },
  {
   "cell_type": "code",
   "execution_count": 4,
   "metadata": {
    "ExecuteTime": {
     "end_time": "2022-10-19T11:29:18.955785Z",
     "start_time": "2022-10-19T11:29:18.944942Z"
    }
   },
   "outputs": [],
   "source": [
    "# Базовая загрузка бибиотек\n",
    "import numpy as np\n",
    "import pandas as pd\n",
    "import matplotlib.pyplot as plot\n",
    "from sklearn.metrics import r2_score\n",
    "from sklearn.linear_model import LinearRegression\n",
    "from sklearn.preprocessing import PolynomialFeatures"
   ]
  },
  {
   "cell_type": "code",
   "execution_count": 5,
   "metadata": {
    "ExecuteTime": {
     "end_time": "2022-10-19T11:29:19.903073Z",
     "start_time": "2022-10-19T11:29:19.895542Z"
    }
   },
   "outputs": [],
   "source": [
    "# отключение предупреждений\n",
    "import warnings\n",
    "warnings.filterwarnings('ignore')"
   ]
  },
  {
   "cell_type": "code",
   "execution_count": 6,
   "metadata": {
    "ExecuteTime": {
     "end_time": "2022-10-19T11:29:20.194274Z",
     "start_time": "2022-10-19T11:29:20.176874Z"
    }
   },
   "outputs": [
    {
     "data": {
      "text/html": [
       "<style>.container { width:100% !important; }</style>"
      ],
      "text/plain": [
       "<IPython.core.display.HTML object>"
      ]
     },
     "metadata": {},
     "output_type": "display_data"
    }
   ],
   "source": [
    "# расширение ноутбука на ширину всего экрана\n",
    "from IPython.display import display, HTML\n",
    "display(HTML(\"<style>.container { width:100% !important; }</style>\"))"
   ]
  },
  {
   "cell_type": "code",
   "execution_count": 7,
   "metadata": {
    "ExecuteTime": {
     "end_time": "2022-10-19T11:29:21.161293Z",
     "start_time": "2022-10-19T11:29:21.141917Z"
    }
   },
   "outputs": [],
   "source": [
    "# Подгрузим наш файл  с данными:\n",
    "try:\n",
    "    data = pd.read_csv('/datasets/insurance.csv')\n",
    "except:\n",
    "    data = pd.read_csv('datasets/insurance.csv')"
   ]
  },
  {
   "cell_type": "code",
   "execution_count": 8,
   "metadata": {
    "ExecuteTime": {
     "end_time": "2022-10-19T11:29:21.984437Z",
     "start_time": "2022-10-19T11:29:21.963098Z"
    }
   },
   "outputs": [
    {
     "data": {
      "text/html": [
       "<div>\n",
       "<style scoped>\n",
       "    .dataframe tbody tr th:only-of-type {\n",
       "        vertical-align: middle;\n",
       "    }\n",
       "\n",
       "    .dataframe tbody tr th {\n",
       "        vertical-align: top;\n",
       "    }\n",
       "\n",
       "    .dataframe thead th {\n",
       "        text-align: right;\n",
       "    }\n",
       "</style>\n",
       "<table border=\"1\" class=\"dataframe\">\n",
       "  <thead>\n",
       "    <tr style=\"text-align: right;\">\n",
       "      <th></th>\n",
       "      <th>Пол</th>\n",
       "      <th>Возраст</th>\n",
       "      <th>Зарплата</th>\n",
       "      <th>Члены семьи</th>\n",
       "      <th>Страховые выплаты</th>\n",
       "    </tr>\n",
       "  </thead>\n",
       "  <tbody>\n",
       "    <tr>\n",
       "      <th>0</th>\n",
       "      <td>1</td>\n",
       "      <td>41.0</td>\n",
       "      <td>49600.0</td>\n",
       "      <td>1</td>\n",
       "      <td>0</td>\n",
       "    </tr>\n",
       "    <tr>\n",
       "      <th>1</th>\n",
       "      <td>0</td>\n",
       "      <td>46.0</td>\n",
       "      <td>38000.0</td>\n",
       "      <td>1</td>\n",
       "      <td>1</td>\n",
       "    </tr>\n",
       "    <tr>\n",
       "      <th>2</th>\n",
       "      <td>0</td>\n",
       "      <td>29.0</td>\n",
       "      <td>21000.0</td>\n",
       "      <td>0</td>\n",
       "      <td>0</td>\n",
       "    </tr>\n",
       "    <tr>\n",
       "      <th>3</th>\n",
       "      <td>0</td>\n",
       "      <td>21.0</td>\n",
       "      <td>41700.0</td>\n",
       "      <td>2</td>\n",
       "      <td>0</td>\n",
       "    </tr>\n",
       "    <tr>\n",
       "      <th>4</th>\n",
       "      <td>1</td>\n",
       "      <td>28.0</td>\n",
       "      <td>26100.0</td>\n",
       "      <td>0</td>\n",
       "      <td>0</td>\n",
       "    </tr>\n",
       "  </tbody>\n",
       "</table>\n",
       "</div>"
      ],
      "text/plain": [
       "   Пол  Возраст  Зарплата  Члены семьи  Страховые выплаты\n",
       "0    1     41.0   49600.0            1                  0\n",
       "1    0     46.0   38000.0            1                  1\n",
       "2    0     29.0   21000.0            0                  0\n",
       "3    0     21.0   41700.0            2                  0\n",
       "4    1     28.0   26100.0            0                  0"
      ]
     },
     "execution_count": 8,
     "metadata": {},
     "output_type": "execute_result"
    }
   ],
   "source": [
    "# Посмотрим на данные в датасете:\n",
    "data.head()"
   ]
  },
  {
   "cell_type": "markdown",
   "metadata": {},
   "source": [
    "### Шаг 2. Предобработка данных"
   ]
  },
  {
   "cell_type": "code",
   "execution_count": 9,
   "metadata": {
    "ExecuteTime": {
     "end_time": "2022-10-19T11:29:23.397776Z",
     "start_time": "2022-10-19T11:29:23.375868Z"
    }
   },
   "outputs": [
    {
     "name": "stdout",
     "output_type": "stream",
     "text": [
      "<class 'pandas.core.frame.DataFrame'>\n",
      "RangeIndex: 5000 entries, 0 to 4999\n",
      "Data columns (total 5 columns):\n",
      " #   Column             Non-Null Count  Dtype  \n",
      "---  ------             --------------  -----  \n",
      " 0   Пол                5000 non-null   int64  \n",
      " 1   Возраст            5000 non-null   float64\n",
      " 2   Зарплата           5000 non-null   float64\n",
      " 3   Члены семьи        5000 non-null   int64  \n",
      " 4   Страховые выплаты  5000 non-null   int64  \n",
      "dtypes: float64(2), int64(3)\n",
      "memory usage: 195.4 KB\n"
     ]
    }
   ],
   "source": [
    "# Посмотрим на сводку по датасету: пропусков нет - это хорошо.\n",
    "data.info()"
   ]
  },
  {
   "cell_type": "code",
   "execution_count": 10,
   "metadata": {
    "ExecuteTime": {
     "end_time": "2022-10-19T11:29:24.029464Z",
     "start_time": "2022-10-19T11:29:23.995353Z"
    }
   },
   "outputs": [
    {
     "data": {
      "text/html": [
       "<div>\n",
       "<style scoped>\n",
       "    .dataframe tbody tr th:only-of-type {\n",
       "        vertical-align: middle;\n",
       "    }\n",
       "\n",
       "    .dataframe tbody tr th {\n",
       "        vertical-align: top;\n",
       "    }\n",
       "\n",
       "    .dataframe thead th {\n",
       "        text-align: right;\n",
       "    }\n",
       "</style>\n",
       "<table border=\"1\" class=\"dataframe\">\n",
       "  <thead>\n",
       "    <tr style=\"text-align: right;\">\n",
       "      <th></th>\n",
       "      <th>Пол</th>\n",
       "      <th>Возраст</th>\n",
       "      <th>Зарплата</th>\n",
       "      <th>Члены семьи</th>\n",
       "      <th>Страховые выплаты</th>\n",
       "    </tr>\n",
       "  </thead>\n",
       "  <tbody>\n",
       "    <tr>\n",
       "      <th>count</th>\n",
       "      <td>5000.000000</td>\n",
       "      <td>5000.000000</td>\n",
       "      <td>5000.000000</td>\n",
       "      <td>5000.000000</td>\n",
       "      <td>5000.000000</td>\n",
       "    </tr>\n",
       "    <tr>\n",
       "      <th>mean</th>\n",
       "      <td>0.499000</td>\n",
       "      <td>30.952800</td>\n",
       "      <td>39916.360000</td>\n",
       "      <td>1.194200</td>\n",
       "      <td>0.148000</td>\n",
       "    </tr>\n",
       "    <tr>\n",
       "      <th>std</th>\n",
       "      <td>0.500049</td>\n",
       "      <td>8.440807</td>\n",
       "      <td>9900.083569</td>\n",
       "      <td>1.091387</td>\n",
       "      <td>0.463183</td>\n",
       "    </tr>\n",
       "    <tr>\n",
       "      <th>min</th>\n",
       "      <td>0.000000</td>\n",
       "      <td>18.000000</td>\n",
       "      <td>5300.000000</td>\n",
       "      <td>0.000000</td>\n",
       "      <td>0.000000</td>\n",
       "    </tr>\n",
       "    <tr>\n",
       "      <th>25%</th>\n",
       "      <td>0.000000</td>\n",
       "      <td>24.000000</td>\n",
       "      <td>33300.000000</td>\n",
       "      <td>0.000000</td>\n",
       "      <td>0.000000</td>\n",
       "    </tr>\n",
       "    <tr>\n",
       "      <th>50%</th>\n",
       "      <td>0.000000</td>\n",
       "      <td>30.000000</td>\n",
       "      <td>40200.000000</td>\n",
       "      <td>1.000000</td>\n",
       "      <td>0.000000</td>\n",
       "    </tr>\n",
       "    <tr>\n",
       "      <th>75%</th>\n",
       "      <td>1.000000</td>\n",
       "      <td>37.000000</td>\n",
       "      <td>46600.000000</td>\n",
       "      <td>2.000000</td>\n",
       "      <td>0.000000</td>\n",
       "    </tr>\n",
       "    <tr>\n",
       "      <th>max</th>\n",
       "      <td>1.000000</td>\n",
       "      <td>65.000000</td>\n",
       "      <td>79000.000000</td>\n",
       "      <td>6.000000</td>\n",
       "      <td>5.000000</td>\n",
       "    </tr>\n",
       "  </tbody>\n",
       "</table>\n",
       "</div>"
      ],
      "text/plain": [
       "               Пол      Возраст      Зарплата  Члены семьи  Страховые выплаты\n",
       "count  5000.000000  5000.000000   5000.000000  5000.000000        5000.000000\n",
       "mean      0.499000    30.952800  39916.360000     1.194200           0.148000\n",
       "std       0.500049     8.440807   9900.083569     1.091387           0.463183\n",
       "min       0.000000    18.000000   5300.000000     0.000000           0.000000\n",
       "25%       0.000000    24.000000  33300.000000     0.000000           0.000000\n",
       "50%       0.000000    30.000000  40200.000000     1.000000           0.000000\n",
       "75%       1.000000    37.000000  46600.000000     2.000000           0.000000\n",
       "max       1.000000    65.000000  79000.000000     6.000000           5.000000"
      ]
     },
     "execution_count": 10,
     "metadata": {},
     "output_type": "execute_result"
    }
   ],
   "source": [
    "# немного статистики по признакам  датасета:\n",
    "data.describe()"
   ]
  },
  {
   "cell_type": "code",
   "execution_count": 11,
   "metadata": {
    "ExecuteTime": {
     "end_time": "2022-10-19T11:29:24.543017Z",
     "start_time": "2022-10-19T11:29:24.531210Z"
    }
   },
   "outputs": [
    {
     "data": {
      "text/plain": [
       "153"
      ]
     },
     "execution_count": 11,
     "metadata": {},
     "output_type": "execute_result"
    }
   ],
   "source": [
    "# проверим, есть ли дубликаты в таблице с помощью метода duplicated. Они есть.\n",
    "data.duplicated().sum()"
   ]
  },
  {
   "cell_type": "code",
   "execution_count": 12,
   "metadata": {
    "ExecuteTime": {
     "end_time": "2022-10-19T11:29:25.256629Z",
     "start_time": "2022-10-19T11:29:25.243006Z"
    }
   },
   "outputs": [],
   "source": [
    "data = data.drop_duplicates()"
   ]
  },
  {
   "cell_type": "code",
   "execution_count": 13,
   "metadata": {
    "ExecuteTime": {
     "end_time": "2022-10-19T11:29:25.900787Z",
     "start_time": "2022-10-19T11:29:25.877908Z"
    },
    "scrolled": true
   },
   "outputs": [
    {
     "data": {
      "text/html": [
       "<div>\n",
       "<style scoped>\n",
       "    .dataframe tbody tr th:only-of-type {\n",
       "        vertical-align: middle;\n",
       "    }\n",
       "\n",
       "    .dataframe tbody tr th {\n",
       "        vertical-align: top;\n",
       "    }\n",
       "\n",
       "    .dataframe thead th {\n",
       "        text-align: right;\n",
       "    }\n",
       "</style>\n",
       "<table border=\"1\" class=\"dataframe\">\n",
       "  <thead>\n",
       "    <tr style=\"text-align: right;\">\n",
       "      <th></th>\n",
       "      <th>Пол</th>\n",
       "      <th>Возраст</th>\n",
       "      <th>Зарплата</th>\n",
       "      <th>Члены семьи</th>\n",
       "      <th>Страховые выплаты</th>\n",
       "    </tr>\n",
       "  </thead>\n",
       "  <tbody>\n",
       "    <tr>\n",
       "      <th>Пол</th>\n",
       "      <td>1.000000</td>\n",
       "      <td>0.001953</td>\n",
       "      <td>0.015456</td>\n",
       "      <td>-0.007315</td>\n",
       "      <td>0.011565</td>\n",
       "    </tr>\n",
       "    <tr>\n",
       "      <th>Возраст</th>\n",
       "      <td>0.001953</td>\n",
       "      <td>1.000000</td>\n",
       "      <td>-0.017386</td>\n",
       "      <td>-0.009064</td>\n",
       "      <td>0.654964</td>\n",
       "    </tr>\n",
       "    <tr>\n",
       "      <th>Зарплата</th>\n",
       "      <td>0.015456</td>\n",
       "      <td>-0.017386</td>\n",
       "      <td>1.000000</td>\n",
       "      <td>-0.031687</td>\n",
       "      <td>-0.013123</td>\n",
       "    </tr>\n",
       "    <tr>\n",
       "      <th>Члены семьи</th>\n",
       "      <td>-0.007315</td>\n",
       "      <td>-0.009064</td>\n",
       "      <td>-0.031687</td>\n",
       "      <td>1.000000</td>\n",
       "      <td>-0.039303</td>\n",
       "    </tr>\n",
       "    <tr>\n",
       "      <th>Страховые выплаты</th>\n",
       "      <td>0.011565</td>\n",
       "      <td>0.654964</td>\n",
       "      <td>-0.013123</td>\n",
       "      <td>-0.039303</td>\n",
       "      <td>1.000000</td>\n",
       "    </tr>\n",
       "  </tbody>\n",
       "</table>\n",
       "</div>"
      ],
      "text/plain": [
       "                        Пол   Возраст  Зарплата  Члены семьи  \\\n",
       "Пол                1.000000  0.001953  0.015456    -0.007315   \n",
       "Возраст            0.001953  1.000000 -0.017386    -0.009064   \n",
       "Зарплата           0.015456 -0.017386  1.000000    -0.031687   \n",
       "Члены семьи       -0.007315 -0.009064 -0.031687     1.000000   \n",
       "Страховые выплаты  0.011565  0.654964 -0.013123    -0.039303   \n",
       "\n",
       "                   Страховые выплаты  \n",
       "Пол                         0.011565  \n",
       "Возраст                     0.654964  \n",
       "Зарплата                   -0.013123  \n",
       "Члены семьи                -0.039303  \n",
       "Страховые выплаты           1.000000  "
      ]
     },
     "execution_count": 13,
     "metadata": {},
     "output_type": "execute_result"
    }
   ],
   "source": [
    "# посмотрим на кореляцию признаков между собой и особенно с таргетом - \"Страховые выплаты\":\n",
    "# сильная корреляция \"возраста клиента\" с таргетом.\n",
    "data.corr()"
   ]
  },
  {
   "cell_type": "code",
   "execution_count": 14,
   "metadata": {
    "ExecuteTime": {
     "end_time": "2022-10-19T11:29:34.190938Z",
     "start_time": "2022-10-19T11:29:34.176787Z"
    }
   },
   "outputs": [
    {
     "data": {
      "text/plain": [
       "(4847, 4)"
      ]
     },
     "execution_count": 14,
     "metadata": {},
     "output_type": "execute_result"
    }
   ],
   "source": [
    "# В рамках задачи считаем, что дополнительная обработка данных нам не нужна\n",
    "# Разобьем наши данные на признаки и целевой показатель\n",
    "features = data.drop('Страховые выплаты', axis=1)\n",
    "target = data['Страховые выплаты']\n",
    "\n",
    "features.shape"
   ]
  },
  {
   "cell_type": "code",
   "execution_count": 15,
   "metadata": {
    "ExecuteTime": {
     "end_time": "2022-10-19T11:29:34.821129Z",
     "start_time": "2022-10-19T11:29:34.808720Z"
    }
   },
   "outputs": [
    {
     "data": {
      "text/plain": [
       "(4847,)"
      ]
     },
     "execution_count": 15,
     "metadata": {},
     "output_type": "execute_result"
    }
   ],
   "source": [
    "target.shape"
   ]
  },
  {
   "cell_type": "markdown",
   "metadata": {},
   "source": [
    "### 3. Преобразование данных. Умножение матриц"
   ]
  },
  {
   "cell_type": "markdown",
   "metadata": {},
   "source": [
    "Обозначения:\n",
    "\n",
    "- $X$ — матрица признаков (нулевой столбец состоит из единиц)\n",
    "\n",
    "- $y$ — вектор целевого признака\n",
    "\n",
    "- $P$ — матрица, на которую умножаются признаки\n",
    "\n",
    "- $w$ — вектор весов линейной регрессии (нулевой элемент равен сдвигу)"
   ]
  },
  {
   "cell_type": "markdown",
   "metadata": {},
   "source": [
    "Предсказания:\n",
    "\n",
    "$$a = Xw$$\n",
    "\n",
    "Задача обучения:\n",
    "\n",
    "$$w = \\arg\\min_w MSE(Xw, y)$$\n",
    "\n",
    "Формула обучения:\n",
    "\n",
    "$$w = (X^T X)^{-1} X^T y$$"
   ]
  },
  {
   "cell_type": "markdown",
   "metadata": {},
   "source": [
    "### 4. Ответим на поставленный вопрос:\n",
    "\n",
    "Что произойдет, если признаки умножить на обратимую матрицу. Изменится ли качество линейной регрессии?"
   ]
  },
  {
   "cell_type": "markdown",
   "metadata": {},
   "source": [
    " Попробуем проверить гипотезу.\n",
    "\n",
    "Для ответа необходимо доказать, что предсказания на исходных признаках будут равны предсказанию, вычесленному с учетом умножения признаков на заведомо обратимую матрицу."
   ]
  },
  {
   "cell_type": "markdown",
   "metadata": {},
   "source": [
    "1. Вычислим $w_2$. Подставим в выражение:\n",
    "\n",
    "$$w_2 = ((XP)^T XP)^{-1} (XP)^T y$$\n",
    "\n",
    "2. Раскроем скобки для транспонирования по свойству $(AB)^T = B^T A^T$\n",
    "\n",
    "$$w_2 = (P^T X^T XP)^{-1} P^T X^T y$$\n",
    "\n",
    "3. Вынесем P за скобки по свойству $(AB)^{-1} = B^{-1} A^{-1}$\n",
    "\n",
    "$$w_2 = P^{-1} (X^T X)^{-1} (P^T)^{-1} P^T X^T y$$\n",
    "\n",
    "4. Т.к. умножение матрицы на обратимую равно E, можем сократить часть $(P^T)^{-1} P^T$ до $E$ и сразу умножить на $X^T$\n",
    "\n",
    "$$w_2 = P^{-1} (X^T X)^{-1} X^T y$$\n",
    "\n",
    "5. Вспомним, что $w = (X^T X)^{-1} X^T y$ и произведем замену\n",
    "\n",
    "$$w_2 = P^{-1} w$$"
   ]
  },
  {
   "cell_type": "markdown",
   "metadata": {},
   "source": [
    "Теперь проверим признаки\n",
    "\n",
    "1. Запишем формулу\n",
    "\n",
    "$$a_2 = XPw_2$$\n",
    "\n",
    "2. Подставим получившиеся значения\n",
    "\n",
    "$$a_2 = XP P^{-1} w$$\n",
    "\n",
    "3. Опять же, вспомним, что умножение на обратную матрицу даст $E$\n",
    "\n",
    "$$a_2 = Xw$$\n",
    "\n",
    "**4. Учитывая, что $a = Xw$, получаем:**\n",
    "\n",
    "$$a_2 = a$$"
   ]
  },
  {
   "cell_type": "markdown",
   "metadata": {},
   "source": [
    "### Вывод\n",
    "\n",
    "Теперь мы точно можем сказать, что при умножении признаков на обратимую матрицу, качество линейной регрессии не изменится."
   ]
  },
  {
   "cell_type": "markdown",
   "metadata": {},
   "source": [
    "### 5. Алгоритм преобразования"
   ]
  },
  {
   "cell_type": "markdown",
   "metadata": {},
   "source": [
    "1. создаём случайную матрицу\n",
    "2. проверяем ее обратимость\n",
    "3. создаём новую матрицу признаков\n",
    "4. считаем метрики качества модели на исходных признаках, и сравниваем с метриками, полученными  на сгенерированных признаках"
   ]
  },
  {
   "cell_type": "markdown",
   "metadata": {},
   "source": [
    "### 6. Проверка алгоритма"
   ]
  },
  {
   "cell_type": "code",
   "execution_count": 16,
   "metadata": {
    "ExecuteTime": {
     "end_time": "2022-10-19T11:30:35.066631Z",
     "start_time": "2022-10-19T11:30:35.044521Z"
    }
   },
   "outputs": [],
   "source": [
    "# Запрограммируем этот алгоритм, применив матричные операции\n",
    "\n",
    "def generate_invertible_matrix(size):\n",
    "    try:\n",
    "        # что лучше выбрать: np.random.normal или np.random.randint?\n",
    "        matrix = np.random.normal(size=(size, size))\n",
    "        #matrix = np.random.randint(10,size=(size, size))\n",
    "        # проверим матрицу на обратимость, если нет, пробуем сгенерировать еще раз\n",
    "        # таким образом гарантируем, что матрица стопроцентно будет обратимой\n",
    "        np.linalg.inv(matrix)\n",
    "    except np.linalg.LinAlgError:\n",
    "        matrix = generate_invertible_matrix(size)\n",
    "\n",
    "    return matrix\n",
    "\n",
    "\n",
    "def make_new_features(features):\n",
    "    size = features.shape[1]\n",
    "    P = generate_invertible_matrix(size)\n",
    "    return features.dot(P)\n",
    "\n",
    "\n",
    "new_features = make_new_features(features)"
   ]
  },
  {
   "cell_type": "code",
   "execution_count": 17,
   "metadata": {
    "ExecuteTime": {
     "end_time": "2022-10-19T11:30:37.776942Z",
     "start_time": "2022-10-19T11:30:37.755870Z"
    }
   },
   "outputs": [
    {
     "data": {
      "text/html": [
       "<div>\n",
       "<style scoped>\n",
       "    .dataframe tbody tr th:only-of-type {\n",
       "        vertical-align: middle;\n",
       "    }\n",
       "\n",
       "    .dataframe tbody tr th {\n",
       "        vertical-align: top;\n",
       "    }\n",
       "\n",
       "    .dataframe thead th {\n",
       "        text-align: right;\n",
       "    }\n",
       "</style>\n",
       "<table border=\"1\" class=\"dataframe\">\n",
       "  <thead>\n",
       "    <tr style=\"text-align: right;\">\n",
       "      <th></th>\n",
       "      <th>Пол</th>\n",
       "      <th>Возраст</th>\n",
       "      <th>Зарплата</th>\n",
       "      <th>Члены семьи</th>\n",
       "    </tr>\n",
       "  </thead>\n",
       "  <tbody>\n",
       "    <tr>\n",
       "      <th>0</th>\n",
       "      <td>1</td>\n",
       "      <td>41.0</td>\n",
       "      <td>49600.0</td>\n",
       "      <td>1</td>\n",
       "    </tr>\n",
       "    <tr>\n",
       "      <th>1</th>\n",
       "      <td>0</td>\n",
       "      <td>46.0</td>\n",
       "      <td>38000.0</td>\n",
       "      <td>1</td>\n",
       "    </tr>\n",
       "    <tr>\n",
       "      <th>2</th>\n",
       "      <td>0</td>\n",
       "      <td>29.0</td>\n",
       "      <td>21000.0</td>\n",
       "      <td>0</td>\n",
       "    </tr>\n",
       "    <tr>\n",
       "      <th>3</th>\n",
       "      <td>0</td>\n",
       "      <td>21.0</td>\n",
       "      <td>41700.0</td>\n",
       "      <td>2</td>\n",
       "    </tr>\n",
       "    <tr>\n",
       "      <th>4</th>\n",
       "      <td>1</td>\n",
       "      <td>28.0</td>\n",
       "      <td>26100.0</td>\n",
       "      <td>0</td>\n",
       "    </tr>\n",
       "    <tr>\n",
       "      <th>...</th>\n",
       "      <td>...</td>\n",
       "      <td>...</td>\n",
       "      <td>...</td>\n",
       "      <td>...</td>\n",
       "    </tr>\n",
       "    <tr>\n",
       "      <th>4995</th>\n",
       "      <td>0</td>\n",
       "      <td>28.0</td>\n",
       "      <td>35700.0</td>\n",
       "      <td>2</td>\n",
       "    </tr>\n",
       "    <tr>\n",
       "      <th>4996</th>\n",
       "      <td>0</td>\n",
       "      <td>34.0</td>\n",
       "      <td>52400.0</td>\n",
       "      <td>1</td>\n",
       "    </tr>\n",
       "    <tr>\n",
       "      <th>4997</th>\n",
       "      <td>0</td>\n",
       "      <td>20.0</td>\n",
       "      <td>33900.0</td>\n",
       "      <td>2</td>\n",
       "    </tr>\n",
       "    <tr>\n",
       "      <th>4998</th>\n",
       "      <td>1</td>\n",
       "      <td>22.0</td>\n",
       "      <td>32700.0</td>\n",
       "      <td>3</td>\n",
       "    </tr>\n",
       "    <tr>\n",
       "      <th>4999</th>\n",
       "      <td>1</td>\n",
       "      <td>28.0</td>\n",
       "      <td>40600.0</td>\n",
       "      <td>1</td>\n",
       "    </tr>\n",
       "  </tbody>\n",
       "</table>\n",
       "<p>4847 rows × 4 columns</p>\n",
       "</div>"
      ],
      "text/plain": [
       "      Пол  Возраст  Зарплата  Члены семьи\n",
       "0       1     41.0   49600.0            1\n",
       "1       0     46.0   38000.0            1\n",
       "2       0     29.0   21000.0            0\n",
       "3       0     21.0   41700.0            2\n",
       "4       1     28.0   26100.0            0\n",
       "...   ...      ...       ...          ...\n",
       "4995    0     28.0   35700.0            2\n",
       "4996    0     34.0   52400.0            1\n",
       "4997    0     20.0   33900.0            2\n",
       "4998    1     22.0   32700.0            3\n",
       "4999    1     28.0   40600.0            1\n",
       "\n",
       "[4847 rows x 4 columns]"
      ]
     },
     "execution_count": 17,
     "metadata": {},
     "output_type": "execute_result"
    }
   ],
   "source": [
    "features"
   ]
  },
  {
   "cell_type": "code",
   "execution_count": 16,
   "metadata": {
    "ExecuteTime": {
     "end_time": "2022-06-22T05:39:34.932491Z",
     "start_time": "2022-06-22T05:39:34.915900Z"
    },
    "scrolled": true
   },
   "outputs": [
    {
     "data": {
      "text/html": [
       "<div>\n",
       "<style scoped>\n",
       "    .dataframe tbody tr th:only-of-type {\n",
       "        vertical-align: middle;\n",
       "    }\n",
       "\n",
       "    .dataframe tbody tr th {\n",
       "        vertical-align: top;\n",
       "    }\n",
       "\n",
       "    .dataframe thead th {\n",
       "        text-align: right;\n",
       "    }\n",
       "</style>\n",
       "<table border=\"1\" class=\"dataframe\">\n",
       "  <thead>\n",
       "    <tr style=\"text-align: right;\">\n",
       "      <th></th>\n",
       "      <th>0</th>\n",
       "      <th>1</th>\n",
       "      <th>2</th>\n",
       "      <th>3</th>\n",
       "    </tr>\n",
       "  </thead>\n",
       "  <tbody>\n",
       "    <tr>\n",
       "      <th>0</th>\n",
       "      <td>-19937.419741</td>\n",
       "      <td>23764.946276</td>\n",
       "      <td>-27291.197585</td>\n",
       "      <td>67914.631559</td>\n",
       "    </tr>\n",
       "    <tr>\n",
       "      <th>1</th>\n",
       "      <td>-15282.921236</td>\n",
       "      <td>18214.293112</td>\n",
       "      <td>-20880.057443</td>\n",
       "      <td>52041.858676</td>\n",
       "    </tr>\n",
       "    <tr>\n",
       "      <th>2</th>\n",
       "      <td>-8447.499634</td>\n",
       "      <td>10068.534346</td>\n",
       "      <td>-11532.331348</td>\n",
       "      <td>28761.888344</td>\n",
       "    </tr>\n",
       "    <tr>\n",
       "      <th>3</th>\n",
       "      <td>-16754.278649</td>\n",
       "      <td>19968.763209</td>\n",
       "      <td>-22970.594102</td>\n",
       "      <td>57089.813759</td>\n",
       "    </tr>\n",
       "    <tr>\n",
       "      <th>4</th>\n",
       "      <td>-10494.972370</td>\n",
       "      <td>12510.725408</td>\n",
       "      <td>-14348.342809</td>\n",
       "      <td>35741.040791</td>\n",
       "    </tr>\n",
       "    <tr>\n",
       "      <th>...</th>\n",
       "      <td>...</td>\n",
       "      <td>...</td>\n",
       "      <td>...</td>\n",
       "      <td>...</td>\n",
       "    </tr>\n",
       "    <tr>\n",
       "      <th>4995</th>\n",
       "      <td>-14349.750100</td>\n",
       "      <td>17101.450011</td>\n",
       "      <td>-19645.488844</td>\n",
       "      <td>48882.578675</td>\n",
       "    </tr>\n",
       "    <tr>\n",
       "      <th>4996</th>\n",
       "      <td>-21056.629355</td>\n",
       "      <td>25098.799985</td>\n",
       "      <td>-28850.841317</td>\n",
       "      <td>71742.503525</td>\n",
       "    </tr>\n",
       "    <tr>\n",
       "      <th>4997</th>\n",
       "      <td>-13622.416543</td>\n",
       "      <td>16235.037821</td>\n",
       "      <td>-18667.881084</td>\n",
       "      <td>46413.505120</td>\n",
       "    </tr>\n",
       "    <tr>\n",
       "      <th>4998</th>\n",
       "      <td>-13143.361638</td>\n",
       "      <td>15662.899534</td>\n",
       "      <td>-18000.367072</td>\n",
       "      <td>44773.050825</td>\n",
       "    </tr>\n",
       "    <tr>\n",
       "      <th>4999</th>\n",
       "      <td>-16316.724707</td>\n",
       "      <td>19449.508318</td>\n",
       "      <td>-22349.897096</td>\n",
       "      <td>55587.717430</td>\n",
       "    </tr>\n",
       "  </tbody>\n",
       "</table>\n",
       "<p>4847 rows × 4 columns</p>\n",
       "</div>"
      ],
      "text/plain": [
       "                 0             1             2             3\n",
       "0    -19937.419741  23764.946276 -27291.197585  67914.631559\n",
       "1    -15282.921236  18214.293112 -20880.057443  52041.858676\n",
       "2     -8447.499634  10068.534346 -11532.331348  28761.888344\n",
       "3    -16754.278649  19968.763209 -22970.594102  57089.813759\n",
       "4    -10494.972370  12510.725408 -14348.342809  35741.040791\n",
       "...            ...           ...           ...           ...\n",
       "4995 -14349.750100  17101.450011 -19645.488844  48882.578675\n",
       "4996 -21056.629355  25098.799985 -28850.841317  71742.503525\n",
       "4997 -13622.416543  16235.037821 -18667.881084  46413.505120\n",
       "4998 -13143.361638  15662.899534 -18000.367072  44773.050825\n",
       "4999 -16316.724707  19449.508318 -22349.897096  55587.717430\n",
       "\n",
       "[4847 rows x 4 columns]"
      ]
     },
     "execution_count": 16,
     "metadata": {},
     "output_type": "execute_result"
    }
   ],
   "source": [
    "new_features"
   ]
  },
  {
   "cell_type": "code",
   "execution_count": 18,
   "metadata": {
    "ExecuteTime": {
     "end_time": "2022-10-19T11:30:46.531899Z",
     "start_time": "2022-10-19T11:30:46.408479Z"
    }
   },
   "outputs": [
    {
     "data": {
      "image/png": "[encoded data removed]",
      "text/plain": [
       "<Figure size 432x288 with 1 Axes>"
      ]
     },
     "metadata": {
      "needs_background": "light"
     },
     "output_type": "display_data"
    }
   ],
   "source": [
    "plot.plot(features)\n",
    "plot.show()"
   ]
  },
  {
   "cell_type": "code",
   "execution_count": 19,
   "metadata": {
    "ExecuteTime": {
     "end_time": "2022-10-19T11:30:50.870310Z",
     "start_time": "2022-10-19T11:30:50.741082Z"
    }
   },
   "outputs": [
    {
     "data": {
      "image/png": "[encoded data removed]",
      "text/plain": [
       "<Figure size 432x288 with 1 Axes>"
      ]
     },
     "metadata": {
      "needs_background": "light"
     },
     "output_type": "display_data"
    }
   ],
   "source": [
    "plot.hist(features)\n",
    "plot.show()"
   ]
  },
  {
   "cell_type": "code",
   "execution_count": 20,
   "metadata": {
    "ExecuteTime": {
     "end_time": "2022-10-19T11:30:58.480187Z",
     "start_time": "2022-10-19T11:30:58.356089Z"
    }
   },
   "outputs": [
    {
     "data": {
      "image/png": "[encoded data removed]",
      "text/plain": [
       "<Figure size 432x288 with 1 Axes>"
      ]
     },
     "metadata": {
      "needs_background": "light"
     },
     "output_type": "display_data"
    }
   ],
   "source": [
    "plot.plot(new_features)\n",
    "plot.show()"
   ]
  },
  {
   "cell_type": "code",
   "execution_count": 21,
   "metadata": {
    "ExecuteTime": {
     "end_time": "2022-10-19T11:31:01.801137Z",
     "start_time": "2022-10-19T11:31:01.676679Z"
    }
   },
   "outputs": [
    {
     "data": {
      "image/png": "[encoded data removed]",
      "text/plain": [
       "<Figure size 432x288 with 1 Axes>"
      ]
     },
     "metadata": {
      "needs_background": "light"
     },
     "output_type": "display_data"
    }
   ],
   "source": [
    "plot.hist(new_features)\n",
    "plot.show()"
   ]
  },
  {
   "cell_type": "code",
   "execution_count": 22,
   "metadata": {
    "ExecuteTime": {
     "end_time": "2022-10-19T11:31:10.290126Z",
     "start_time": "2022-10-19T11:31:10.258442Z"
    }
   },
   "outputs": [
    {
     "name": "stdout",
     "output_type": "stream",
     "text": [
      "R2 features =  0.4302010044852066\n",
      "R2 new_features =  0.4302010044852165\n"
     ]
    }
   ],
   "source": [
    "# Теперь обучим 2 модели линейной регрессии  и сравним результаты:\n",
    "model_base = LinearRegression()\n",
    "model_base.fit(features, target)\n",
    "predict = model_base.predict(features)\n",
    "\n",
    "model_new = LinearRegression()\n",
    "model_new.fit(new_features, target)\n",
    "new_predict = model_new.predict(new_features)\n",
    "\n",
    "# Сравним R2 метрики:\n",
    "print('R2 features = ', r2_score(target, predict))\n",
    "print('R2 new_features = ', r2_score(target, new_predict))"
   ]
  },
  {
   "cell_type": "markdown",
   "metadata": {},
   "source": [
    "* Можно х2 улучшить результаты модели несложными манипуляциями с признаками для обучения (feature engineering сделать):"
   ]
  },
  {
   "cell_type": "code",
   "execution_count": 23,
   "metadata": {
    "ExecuteTime": {
     "end_time": "2022-10-19T11:31:19.664613Z",
     "start_time": "2022-10-19T11:31:19.643032Z"
    }
   },
   "outputs": [
    {
     "name": "stdout",
     "output_type": "stream",
     "text": [
      "R2 features =  0.4302010044852066\n",
      "R2 new_features =  0.8307185892645722\n"
     ]
    }
   ],
   "source": [
    "# вариант 1:\n",
    "model_new = LinearRegression()\n",
    "new_features2 = features*(features**4)\n",
    "model_new.fit(new_features2, target)\n",
    "new_predict = model_new.predict(new_features2)\n",
    "\n",
    "# Сравним R2 метрики:\n",
    "print('R2 features = ', r2_score(target, predict))\n",
    "print('R2 new_features = ', r2_score(target, new_predict))"
   ]
  },
  {
   "cell_type": "code",
   "execution_count": 23,
   "metadata": {
    "ExecuteTime": {
     "end_time": "2022-06-22T05:39:38.944676Z",
     "start_time": "2022-06-22T05:39:38.899734Z"
    },
    "scrolled": true
   },
   "outputs": [
    {
     "name": "stdout",
     "output_type": "stream",
     "text": [
      "R2 features =  0.4302010044852066\n",
      "R2 new_features =  0.8874020497615601\n"
     ]
    }
   ],
   "source": [
    "# вариант 2\n",
    "poly_reg = PolynomialFeatures(degree=4)\n",
    "new_features3 = poly_reg.fit_transform(features)\n",
    "model_new.fit(new_features3, target)\n",
    "new_predict = model_new.predict(new_features3)\n",
    "\n",
    "# Сравним R2 метрики:\n",
    "print('R2 features = ', r2_score(target, predict))\n",
    "print('R2 new_features = ', r2_score(target, new_predict))"
   ]
  },
  {
   "cell_type": "markdown",
   "metadata": {
    "pycharm": {
     "name": "#%% md\n"
    }
   },
   "source": [
    "# Общий вывод\n",
    "\n",
    "    1. Мы изучили данные\n",
    "    2. Доказали, что при умножении признаков на обратимую матрицу качество линейной регрессии не изменится и обосновали это заключение\n",
    "    3. Помимо этого, мы также запрограммировали этот алгоритм и проверили качество линейной регрессии после преобразования, убедившись, что оно не изменилось.\n",
    "    \n",
    "    Таким образом, у нас получилось создать метод преобразования данных, по которому будет сложно восстановить персональную информацию, но который не будет влиять на качество линейной регрессии. Что и требовалось получить.)\n",
    "\n",
    "\n"
   ]
  }
 ],
 "metadata": {
  "ExecuteTimeLog": [
   {
    "duration": 1878,
    "start_time": "2022-06-21T13:22:48.332Z"
   },
   {
    "duration": 2,
    "start_time": "2022-06-21T13:22:50.212Z"
   },
   {
    "duration": 92,
    "start_time": "2022-06-21T13:22:50.216Z"
   },
   {
    "duration": 110,
    "start_time": "2022-06-21T13:22:50.310Z"
   },
   {
    "duration": 10,
    "start_time": "2022-06-21T13:22:50.422Z"
   },
   {
    "duration": 30,
    "start_time": "2022-06-21T13:22:50.434Z"
   },
   {
    "duration": 77,
    "start_time": "2022-06-21T13:22:50.466Z"
   },
   {
    "duration": 5,
    "start_time": "2022-06-21T13:22:50.545Z"
   },
   {
    "duration": 11,
    "start_time": "2022-06-21T13:22:50.551Z"
   },
   {
    "duration": 56,
    "start_time": "2022-06-21T13:22:50.565Z"
   },
   {
    "duration": 5,
    "start_time": "2022-06-21T13:22:50.623Z"
   },
   {
    "duration": 9,
    "start_time": "2022-06-21T13:22:50.629Z"
   },
   {
    "duration": 13,
    "start_time": "2022-06-21T13:22:50.639Z"
   },
   {
    "duration": 128,
    "start_time": "2022-06-21T13:22:50.655Z"
   },
   {
    "duration": 21,
    "start_time": "2022-06-21T13:22:50.795Z"
   },
   {
    "duration": 217,
    "start_time": "2022-06-21T13:22:50.819Z"
   },
   {
    "duration": 204,
    "start_time": "2022-06-21T13:22:51.037Z"
   },
   {
    "duration": 190,
    "start_time": "2022-06-21T13:22:51.242Z"
   },
   {
    "duration": 217,
    "start_time": "2022-06-21T13:22:51.434Z"
   },
   {
    "duration": 137,
    "start_time": "2022-06-21T13:22:51.659Z"
   },
   {
    "duration": 165,
    "start_time": "2022-06-21T13:22:51.800Z"
   },
   {
    "duration": 293,
    "start_time": "2022-06-21T13:22:51.978Z"
   },
   {
    "duration": 1990,
    "start_time": "2022-06-21T13:25:23.823Z"
   },
   {
    "duration": 3,
    "start_time": "2022-06-21T13:25:25.815Z"
   },
   {
    "duration": 68,
    "start_time": "2022-06-21T13:25:25.819Z"
   },
   {
    "duration": 35,
    "start_time": "2022-06-21T13:25:25.890Z"
   },
   {
    "duration": 12,
    "start_time": "2022-06-21T13:25:25.926Z"
   },
   {
    "duration": 19,
    "start_time": "2022-06-21T13:25:25.940Z"
   },
   {
    "duration": 43,
    "start_time": "2022-06-21T13:25:25.961Z"
   },
   {
    "duration": 17,
    "start_time": "2022-06-21T13:25:26.005Z"
   },
   {
    "duration": 9,
    "start_time": "2022-06-21T13:25:26.024Z"
   },
   {
    "duration": 13,
    "start_time": "2022-06-21T13:25:26.036Z"
   },
   {
    "duration": 11,
    "start_time": "2022-06-21T13:25:26.051Z"
   },
   {
    "duration": 47,
    "start_time": "2022-06-21T13:25:26.064Z"
   },
   {
    "duration": 22,
    "start_time": "2022-06-21T13:25:26.113Z"
   },
   {
    "duration": 59,
    "start_time": "2022-06-21T13:25:26.137Z"
   },
   {
    "duration": 92,
    "start_time": "2022-06-21T13:25:26.199Z"
   },
   {
    "duration": 211,
    "start_time": "2022-06-21T13:25:26.298Z"
   },
   {
    "duration": 200,
    "start_time": "2022-06-21T13:25:26.511Z"
   },
   {
    "duration": 217,
    "start_time": "2022-06-21T13:25:26.713Z"
   },
   {
    "duration": 200,
    "start_time": "2022-06-21T13:25:26.932Z"
   },
   {
    "duration": 141,
    "start_time": "2022-06-21T13:25:27.133Z"
   },
   {
    "duration": 107,
    "start_time": "2022-06-21T13:25:27.280Z"
   },
   {
    "duration": 417,
    "start_time": "2022-06-21T13:25:27.397Z"
   }
  ],
  "kernelspec": {
   "display_name": "Python 3 (ipykernel)",
   "language": "python",
   "name": "python3"
  },
  "language_info": {
   "codemirror_mode": {
    "name": "ipython",
    "version": 3
   },
   "file_extension": ".py",
   "mimetype": "text/x-python",
   "name": "python",
   "nbconvert_exporter": "python",
   "pygments_lexer": "ipython3",
   "version": "3.8.13"
  },
  "toc": {
   "base_numbering": 1,
   "nav_menu": {},
   "number_sections": true,
   "sideBar": true,
   "skip_h1_title": true,
   "title_cell": "Table of Contents",
   "title_sidebar": "Contents",
   "toc_cell": false,
   "toc_position": {},
   "toc_section_display": true,
   "toc_window_display": false
  }
 },
 "nbformat": 4,
 "nbformat_minor": 2
}
